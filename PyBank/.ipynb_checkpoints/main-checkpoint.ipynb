{
 "cells": [
  {
   "cell_type": "code",
   "execution_count": 29,
   "id": "7634c1df-835b-4579-a283-082fa340fc29",
   "metadata": {},
   "outputs": [
    {
     "name": "stdout",
     "output_type": "stream",
     "text": [
      "Financial Analysis\n",
      "----------------------------\n",
      "Total Months: 86\n",
      "Total: $38382578\n",
      "Average Change: $446309.0465116279\n",
      "Greatest Increase in Profits: Feb-2012 ($1170593)\n",
      "Greatest Decrease in Profits: Sep-2013 ($-1196225)\n"
     ]
    }
   ],
   "source": [
    "'''ENTER PESDO CODE HERE WHEN DONE'''\n",
    "\n",
    "#Impot Path and CSV \n",
    "from pathlib import Path\n",
    "import csv\n",
    "\n",
    "#Set file path and open CSV\n",
    "csvpath = Path('Resources/budget_data.csv')\n",
    "\n",
    "#Set vairiables \n",
    "total_months = 0\n",
    "total_profit = 0\n",
    "average = 0\n",
    "best_month = ''\n",
    "best_month_profit = 0\n",
    "worst_month = ''\n",
    "worst_month_profit = 0\n",
    "\n",
    "with open(csvpath, newline='') as csvfile :\n",
    "    csvreader = csv.reader(csvfile, delimiter=\",\")\n",
    "\n",
    "    #skip header row\n",
    "    csvheader = next(csvreader)\n",
    "    \n",
    "    #iterate through the data to answer questions\n",
    "    for row in csvreader :\n",
    "\n",
    "        #Calculate the total months\n",
    "        total_months += 1\n",
    "\n",
    "        #Calculate total profit/loss\n",
    "        total_profit += int(row[1])\n",
    "\n",
    "        #Find and set best month\n",
    "        if int(row[1]) > best_month_profit :\n",
    "            best_month_profit = int(row[1])\n",
    "            best_month = row[0]\n",
    "\n",
    "        #Find and set worst month\n",
    "        if int(row[1]) < worst_month_profit :\n",
    "            worst_month_profit = int(row[1])\n",
    "            worst_month = row[0]\n",
    "\n",
    "\n",
    "    #Calculate Average\n",
    "    average = total_profit / total_months\n",
    "\n",
    "\n",
    "#set path for export file\n",
    "analysis = Path('analysis.txt')\n",
    "\n",
    "#open txt file and write data to it\n",
    "with open(analysis, 'w') as txtfile :\n",
    "    txtfile.write('Financial Analysis')\n",
    "    txtfile.write('\\n----------------------------')\n",
    "    txtfile.write(f'\\nTotal Months: {total_months}')\n",
    "    txtfile.write(f'\\nTotal: ${total_profit}')\n",
    "    txtfile.write(f'\\nAverage Change: ${average}')\n",
    "    txtfile.write(f'\\nGreatest Increase in Profits: {best_month} (${best_month_profit})')\n",
    "    txtfile.write(f'\\nGreatest Decrease in Profits: {worst_month} (${worst_month_profit})')\n",
    "\n",
    "\n"
   ]
  },
  {
   "cell_type": "code",
   "execution_count": null,
   "id": "3eab7bd6-1d2d-4a2a-bb6c-a5e199eafd3d",
   "metadata": {},
   "outputs": [],
   "source": []
  }
 ],
 "metadata": {
  "kernelspec": {
   "display_name": "Python 3 (ipykernel)",
   "language": "python",
   "name": "python3"
  },
  "language_info": {
   "codemirror_mode": {
    "name": "ipython",
    "version": 3
   },
   "file_extension": ".py",
   "mimetype": "text/x-python",
   "name": "python",
   "nbconvert_exporter": "python",
   "pygments_lexer": "ipython3",
   "version": "3.11.5"
  }
 },
 "nbformat": 4,
 "nbformat_minor": 5
}
