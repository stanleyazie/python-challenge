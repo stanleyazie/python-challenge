{
 "cells": [
  {
   "cell_type": "code",
   "execution_count": 5,
   "id": "7634c1df-835b-4579-a283-082fa340fc29",
   "metadata": {},
   "outputs": [
    {
     "ename": "NameError",
     "evalue": "name 'delimiter' is not defined",
     "output_type": "error",
     "traceback": [
      "\u001b[0;31m---------------------------------------------------------------------------\u001b[0m",
      "\u001b[0;31mNameError\u001b[0m                                 Traceback (most recent call last)",
      "Cell \u001b[0;32mIn[5], line 10\u001b[0m\n\u001b[1;32m      7\u001b[0m filepath \u001b[38;5;241m=\u001b[39m Path(\u001b[38;5;124m'\u001b[39m\u001b[38;5;124mResources/budget_data.csv\u001b[39m\u001b[38;5;124m'\u001b[39m)\n\u001b[1;32m      9\u001b[0m \u001b[38;5;28;01mwith\u001b[39;00m \u001b[38;5;28mopen\u001b[39m(filepath) \u001b[38;5;28;01mas\u001b[39;00m csvfile :\n\u001b[0;32m---> 10\u001b[0m     csvreader \u001b[38;5;241m=\u001b[39m csv\u001b[38;5;241m.\u001b[39mreader(csvfile, delimiter\u001b[38;5;241m==\u001b[39m\u001b[38;5;124m\"\u001b[39m\u001b[38;5;124m,\u001b[39m\u001b[38;5;124m\"\u001b[39m)\n",
      "\u001b[0;31mNameError\u001b[0m: name 'delimiter' is not defined"
     ]
    }
   ],
   "source": [
    "'''ENTER PESDO CODE HERE WHEN DONE'''\n",
    "#import necesssaary \n",
    "from pathlib import Path\n",
    "import csv\n",
    "\n",
    "#Set Paths and import csv\n",
    "filepath = Path('Resources/budget_data.csv')\n",
    "\n",
    "with open(filepath) as csvfile :\n",
    "    csvreader = csv.reader(csvfile, delimiter=\",\")\n",
    "    "
   ]
  },
  {
   "cell_type": "code",
   "execution_count": null,
   "id": "d6a676ff-ca5e-407c-967d-d342c9919536",
   "metadata": {},
   "outputs": [],
   "source": []
  }
 ],
 "metadata": {
  "kernelspec": {
   "display_name": "Python 3 (ipykernel)",
   "language": "python",
   "name": "python3"
  },
  "language_info": {
   "codemirror_mode": {
    "name": "ipython",
    "version": 3
   },
   "file_extension": ".py",
   "mimetype": "text/x-python",
   "name": "python",
   "nbconvert_exporter": "python",
   "pygments_lexer": "ipython3",
   "version": "3.11.5"
  }
 },
 "nbformat": 4,
 "nbformat_minor": 5
}
