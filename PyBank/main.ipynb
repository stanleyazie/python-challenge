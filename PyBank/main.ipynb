{
 "cells": [
  {
   "cell_type": "code",
   "execution_count": 12,
   "id": "7634c1df-835b-4579-a283-082fa340fc29",
   "metadata": {},
   "outputs": [
    {
     "name": "stdout",
     "output_type": "stream",
     "text": [
      "Total Months:86\n"
     ]
    }
   ],
   "source": [
    "'''ENTER PESDO CODE HERE WHEN DONE'''\n",
    "\n",
    "#Impot Path and CSV \n",
    "from pathlib import Path\n",
    "import csv\n",
    "\n",
    "#Set file path and open CSV\n",
    "csvpath = Path('Resources/budget_data.csv')\n",
    "\n",
    "#Set vairiables \n",
    "total_months = 0\n",
    "total_profit = 0\n",
    "average = 0\n",
    "high_month = ''\n",
    "high_month_profit = 0\n",
    "low_month = ''\n",
    "low_month_loss = 0\n",
    "\n",
    "with open(csvpath, newline='') as csvfile :\n",
    "    csvreader = csv.reader(csvfile, delimiter=\",\")\n",
    "\n",
    "    #skip header row\n",
    "    csvheader = next(csvreader)\n",
    "    \n",
    "    #iterate through the data to answer questions\n",
    "    for row in csvreader :\n",
    "\n",
    "        #count the total months\n",
    "        total_months += 1\n",
    "\n",
    "print(f'Total Months:{total_months}')\n"
   ]
  },
  {
   "cell_type": "code",
   "execution_count": 9,
   "id": "d6a676ff-ca5e-407c-967d-d342c9919536",
   "metadata": {
    "tags": []
   },
   "outputs": [
    {
     "ename": "ValueError",
     "evalue": "I/O operation on closed file.",
     "output_type": "error",
     "traceback": [
      "\u001b[0;31m---------------------------------------------------------------------------\u001b[0m",
      "\u001b[0;31mValueError\u001b[0m                                Traceback (most recent call last)",
      "Cell \u001b[0;32mIn[9], line 1\u001b[0m\n\u001b[0;32m----> 1\u001b[0m \u001b[38;5;28;01mfor\u001b[39;00m row \u001b[38;5;129;01min\u001b[39;00m csvreader :\n\u001b[1;32m      2\u001b[0m     \u001b[38;5;28mprint\u001b[39m(row)\n",
      "\u001b[0;31mValueError\u001b[0m: I/O operation on closed file."
     ]
    }
   ],
   "source": [
    "    for row in csvreader :\n",
    "        print(row)"
   ]
  },
  {
   "cell_type": "code",
   "execution_count": null,
   "id": "e189abee-c482-4d3d-a8eb-88a509195140",
   "metadata": {},
   "outputs": [],
   "source": []
  }
 ],
 "metadata": {
  "kernelspec": {
   "display_name": "Python 3 (ipykernel)",
   "language": "python",
   "name": "python3"
  },
  "language_info": {
   "codemirror_mode": {
    "name": "ipython",
    "version": 3
   },
   "file_extension": ".py",
   "mimetype": "text/x-python",
   "name": "python",
   "nbconvert_exporter": "python",
   "pygments_lexer": "ipython3",
   "version": "3.11.5"
  }
 },
 "nbformat": 4,
 "nbformat_minor": 5
}
