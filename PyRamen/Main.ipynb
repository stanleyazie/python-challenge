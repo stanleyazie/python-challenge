{
 "cells": [
  {
   "cell_type": "code",
   "execution_count": 82,
   "id": "ec1f7951-8a9e-4b85-b3a3-d65a3acfb34b",
   "metadata": {},
   "outputs": [
    {
     "name": "stdout",
     "output_type": "stream",
     "text": [
      "Total number of records is 74124\n"
     ]
    }
   ],
   "source": [
    "# -*- coding: UTF-8 -*-\n",
    "\"\"\"PyRamen Homework Starter.\"\"\"\n",
    "\n",
    "# @TODO: Import libraries\n",
    "import csv\n",
    "from pathlib import Path\n",
    "\n",
    "# @TODO: Set file paths for menu_data.csv and sales_data.csv\n",
    "menu_filepath = Path('resources/menu_data.csv')\n",
    "sales_filepath = Path('resources/sales_data.csv')\n",
    "\n",
    "# @TODO: Initialize list objects to hold our menu and sales data\n",
    "menu = []\n",
    "sales = []\n",
    "\n",
    "# @TODO: Read in the menu data into the menu list\n",
    "with open(menu_filepath, 'r') as menu_csv :\n",
    "    menu_reader = csv.reader(menu_csv, delimiter=\",\")\n",
    "\n",
    "    menu_head = next(menu_reader)\n",
    "\n",
    "    for row in menu_reader :\n",
    "        menu.append(row)\n",
    "\n",
    "\n",
    "# @TODO: Read in the sales data into the sales list\n",
    "with open(sales_filepath, 'r') as sales_csv :\n",
    "    sales_reader = csv.reader(sales_csv, delimiter=\",\")\n",
    "\n",
    "    sales_head = next(sales_reader)\n",
    "\n",
    "    for row in sales_reader :\n",
    "        sales.append(row)\n",
    "\n",
    "\n",
    "# @TODO: Initialize dict object to hold our key-value pairs of items and metrics\n",
    "report = {}\n",
    "\n",
    "# Initialize a row counter variable\n",
    "row_count = 0\n",
    "\n",
    "# @TODO: Loop over every row in the sales list object\n",
    "for row in sales :\n",
    "\n",
    "    # Line_Item_ID,Date,Credit_Card_Number,Quantity,Menu_Item\n",
    "    # @TODO: Initialize sales data variables\n",
    "    id = ''\n",
    "    date = ''\n",
    "    cc = ''\n",
    "    quantity = int(row[-2])\n",
    "    menu_item = ''\n",
    "\n",
    "\n",
    "    # @TODO:\n",
    "    # If the item value not in the report, add it as a new entry with initialized metrics\n",
    "    # Naming convention allows the keys to be ordered in logical fashion, count, revenue, cost, profit\n",
    "    sales_item = row[-1]\n",
    "    if sales_item not in report.keys() :\n",
    "        report[sales_item] = {'01-count': 0, '02-revenue': 0, '03-cogs' : 0, '04-profit' : 0}\n",
    "\n",
    "\n",
    "    # @TODO: For every row in our sales data, loop over the menu records to determine a match\n",
    "    for line in menu :\n",
    "\n",
    "        # Item,Category,Description,Price,Cost\n",
    "        # @TODO: Initialize menu data variables\n",
    "        item = ''\n",
    "        category = ''\n",
    "        description = ''\n",
    "        price = float(line[-2])\n",
    "        cost = int(line [-1])\n",
    "\n",
    "        # @TODO: Calculate profit of each item in the menu data\n",
    "        profit = float(line[-2]) - float(line[-1])\n",
    "\n",
    "        # @TODO: If the item value in our sales data is equal to the any of the items in the menu, then begin tracking metrics for that item\n",
    "        if sales_item == line[0] :\n",
    "        \n",
    "            # @TODO: Print out matching menu data\n",
    "            #Create keys for and nested keys for dict\n",
    "            #if line[0] not in report.keys() :\n",
    "                #report[line[0]] = {'01-count': 0, '02-revenue': 0, '03-cogs' : 0, '04-profit' : 0}\n",
    "\n",
    "\n",
    "            # @TODO: Cumulatively add up the metrics for each item key\n",
    "            report[sales_item][\"01-count\"] += quantity\n",
    "            report[sales_item][\"02-revenue\"] += price * quantity\n",
    "            report[sales_item][\"03-cogs\"] += cost * quantity\n",
    "            report[sales_item][\"04-profit\"] += profit * quantity\n",
    "\n",
    "        # @TODO: Else, the sales item does not equal any fo the item in the menu data, therefore no match\n",
    "        \n",
    "\n",
    "\n",
    "    # @TODO: Increment the row counter by 1\n",
    "    row_count += 1\n",
    "\n",
    "# @TODO: Print total number of records in sales data\n",
    "print(f'Total number of records is {row_count}')\n",
    "\n",
    "# @TODO: Write out report to a text file (won't appear on the command line output)\n",
    "report_path = Path(\"report.txt\")\n",
    "\n",
    "with open(report_path, \"w\") as txtfile :\n",
    "    #Code via https://stackoverflow.com/questions/48345630/writing-a-nested-dictionary-to-a-txt-file\n",
    "    for item, data in report.items() :\n",
    "        txtfile.write(f'{item}: \\n')\n",
    "        txtfile.write(f'{new_line.join(\"   {}: {}\".format(label, result) for label, result in data.items())}\\n')\n",
    "        txtfile.write('\\n')\n",
    "        \n",
    "   "
   ]
  },
  {
   "cell_type": "code",
   "execution_count": 80,
   "id": "4f2902fa-d244-403b-bb98-7d614a7c3449",
   "metadata": {
    "tags": []
   },
   "outputs": [
    {
     "name": "stdout",
     "output_type": "stream",
     "text": [
      "spicy miso ramen:\n",
      "   01-count: 8824\n",
      "   02-revenue: 114712.0\n",
      "   03-cogs: 61768\n",
      "   04-profit: 52944.0\n",
      "\n",
      "tori paitan ramen:\n",
      "   01-count: 8824\n",
      "   02-revenue: 114712.0\n",
      "   03-cogs: 61768\n",
      "   04-profit: 52944.0\n",
      "\n",
      "truffle butter ramen:\n",
      "   01-count: 8824\n",
      "   02-revenue: 114712.0\n",
      "   03-cogs: 61768\n",
      "   04-profit: 52944.0\n",
      "\n",
      "tonkotsu ramen:\n",
      "   01-count: 8824\n",
      "   02-revenue: 114712.0\n",
      "   03-cogs: 61768\n",
      "   04-profit: 52944.0\n",
      "\n",
      "vegetarian spicy miso:\n",
      "   01-count: 8824\n",
      "   02-revenue: 114712.0\n",
      "   03-cogs: 61768\n",
      "   04-profit: 52944.0\n",
      "\n",
      "shio ramen:\n",
      "   01-count: 8824\n",
      "   02-revenue: 114712.0\n",
      "   03-cogs: 61768\n",
      "   04-profit: 52944.0\n",
      "\n",
      "miso crab ramen:\n",
      "   01-count: 8824\n",
      "   02-revenue: 114712.0\n",
      "   03-cogs: 61768\n",
      "   04-profit: 52944.0\n",
      "\n",
      "nagomi shoyu:\n",
      "   01-count: 8824\n",
      "   02-revenue: 114712.0\n",
      "   03-cogs: 61768\n",
      "   04-profit: 52944.0\n",
      "\n",
      "soft-shell miso crab ramen:\n",
      "   01-count: 8824\n",
      "   02-revenue: 114712.0\n",
      "   03-cogs: 61768\n",
      "   04-profit: 52944.0\n",
      "\n",
      "burnt garlic tonkotsu ramen:\n",
      "   01-count: 8824\n",
      "   02-revenue: 114712.0\n",
      "   03-cogs: 61768\n",
      "   04-profit: 52944.0\n",
      "\n",
      "vegetarian curry + king trumpet mushroom ramen:\n",
      "   01-count: 8824\n",
      "   02-revenue: 114712.0\n",
      "   03-cogs: 61768\n",
      "   04-profit: 52944.0\n",
      "\n"
     ]
    }
   ],
   "source": [
    "new_line = '\\n'\n",
    "for item, data in report.items() :\n",
    "    print(f'{item}:')\n",
    "    print(f'{new_line.join(\"   {}: {}\".format(label, result) for label, result in values.items())}\\n')"
   ]
  },
  {
   "cell_type": "code",
   "execution_count": 7,
   "id": "5d1bde17-c06f-4e9b-8957-3ce5a0fa320a",
   "metadata": {
    "tags": []
   },
   "outputs": [
    {
     "name": "stdout",
     "output_type": "stream",
     "text": [
      "[['edamame', 'appetizers', 'boiled soybeans, maldon sea salt', '4', '1'], ['house salad', 'appetizers', 'mixed greens, cherry tomatoes, cucumber, house ginger dressing', '4', '2'], ['cucumber sunomono salad', 'appetizers', 'cucumber, ponzu dressing, pickled ginger sproud, sesame seeds', '5', '2'], ['hiyashi wakame seaweed salad', 'appetizers', 'sweet soy-marinated wakame seaweed threads, pickled ginger sprout, sesame seeds', '5', '2'], ['agedashi tofu', 'appetizers', 'tempura battered tofu, katsuobushi, tsuyu broth, scallions', '5', '2'], ['hiyayakko tofu', 'appetizers', 'chilled soft tofu, house shoyu, katsuobushi, ginger, scallions', '5', '2'], ['pork floss bao', 'appetizers', 'two steamed buns, minced lean slow braised niman, ranch pork belly, cucumbers, sriracha mayo', '4', '2'], ['kakuni bao', 'appetizers', 'two steamed buns, chopped fatty slow braised niman ranch pork belly, cucumbers, house bao sauce', '6', '3'], ['edamame fried gyoza (vegan)', 'appetizers', 'six crispy fried edamame and cabbage pot stickers; ponzu rayu dipping sauce', '6', '3'], ['fried gyoza', 'appetizers', 'six cripsy fried pork and vegetable pot stickers; ponzu rayu dipping sauce', '6', '6'], ['takoyaki', 'appetizers', 'six octopus-filled fried fritters, kewpie mayo, okonomi sauce, aonori, katsuobushi, nori', '6', '3'], ['rock shrimp tempura', 'appetizers', 'deep fried tempura battered rock shrimp, sriracha mayo, nisume sauce, aonori, scallions', '6', '3'], ['soft-shell crab tempura', 'appetizers', 'single deep fried soft-shell crab, tsuyu dipping broth', '6', '3'], ['ebi katsu shrimp bao', 'appetizers', 'two steamed buns, panko-crusted fried shrimp patties, yuzu-kosho mayo, aonori, scallions', '6', '3'], ['nagomi shoyu', 'entree', 'shoyu seasoned clear double stock (organic chick broth + house dashi); slow braised niman ranch pork belly, hanjuku tamago, nori, menma, scallions', '11', '5'], ['shio ramen', 'entree', 'sea salt seasoned clear double stock (organic chicken broth + house dashi); slow braised niman ranch pork belly, hanjuku tamago, kikurage, nori, scallions', '11', '5'], ['spicy miso ramen', 'entree', 'house togarashi miso blend + niman ranch pork bone stock; slow braised niman ranch pork belly, hanjuku tamago, kikurage, nori, scallions', '12', '5'], ['vegetarian spicy miso', 'entree', 'house togarashi miso blend + vegan dashi; tempura fried tofu, sweet corn, edamame, kikurage, nori, scallions; organic soy milk upon request', '12', '5'], ['miso crab ramen', 'entree', 'house miso crab blend + vegan dashi; slow braised niman ranch pork belly, crab meat, hanjuku tamago, kikurage, nori, scallions', '12', '6'], ['soft-shell miso crab ramen', 'entree', 'house miso crab blend + vegan dashi; fried whole soft-shell crab, hanjuku tamago, kikurage, nori, scallions', '14', '7'], ['tori paitan ramen', 'entree', 'rich, shoyu seasoned double stock (organic chicken broth + house dashi); slow braised niman ranch pork belly, hanuku tamago, kikurage, nori, scllaions', '13', '6'], ['tonkotsu ramen', 'entree', 'rich, shoyi seasoned niman ranch pork bone stock; slow braised niman ranch pork belly, hanjuku tamago, kikurage, nori, spring radish, scallions', '13', '6'], ['burnt garlic tonkotsu ramen', 'entree', 'rich, shoyi and burnt garlic seasoned niman ranch pork bone stock; slow braised niman ranch pork belly, hanjuku tamago, kikurage, sweet corn, nori, scallions', '14', '6'], ['vegetarian curry + king trumpet mushroom ramen', 'entree', 'house curry blend + vegan dashi; fried king trumpet mushroom, tempura fried tofu, mung bean sprouts, kikurage, nori, scallions', '13', '7'], ['truffle butter ramen', 'entree', 'rich, shoyu seasoned niman ranch prok bone stock; truffle compound butter, slow braised niman ranch pork belly, kikurage, sweet corn, nori, scallions', '14', '7'], ['green tea', 'drinks', 'green tea', '2.5', '1'], ['coke', 'drinks', 'Coca Cola soda', '2', '1'], ['black sesame ice cream', 'desserts', 'house-made black sesame ice cream, valrhona chocolate threads, complimentary hojicha', '5', '2'], ['matcha ice cream', 'desserts', 'house-made matcha ice cream, white chocolate pearls; complimentary hojicha', '5', '2'], ['mango mochi ice cream', 'desserts', 'two rice-cake bonbons filled with strawberry ice cream; complimentary hojicha', '5', '2'], ['strawberry mochi ice cream', 'desserts', 'two rice-cake bonbons filled with strawberry ice cream; complimentary hojicha', '5', '2'], ['black sesame creme brulee', 'desserts', 'house made black sesame infused creme brulee; complimentary hojicha', '6', '3']]\n"
     ]
    }
   ],
   "source": [
    "print(menu)\n"
   ]
  },
  {
   "cell_type": "code",
   "execution_count": 15,
   "id": "f40261de-2cca-4ecf-b611-ec310848e822",
   "metadata": {
    "tags": []
   },
   "outputs": [
    {
     "ename": "ValueError",
     "evalue": "invalid literal for int() with base 10: '5.4'",
     "output_type": "error",
     "traceback": [
      "\u001b[0;31m---------------------------------------------------------------------------\u001b[0m",
      "\u001b[0;31mValueError\u001b[0m                                Traceback (most recent call last)",
      "Cell \u001b[0;32mIn[15], line 1\u001b[0m\n\u001b[0;32m----> 1\u001b[0m \u001b[38;5;28mprint\u001b[39m(\u001b[38;5;28mint\u001b[39m(\u001b[38;5;124m'\u001b[39m\u001b[38;5;124m5.4\u001b[39m\u001b[38;5;124m'\u001b[39m))\n",
      "\u001b[0;31mValueError\u001b[0m: invalid literal for int() with base 10: '5.4'"
     ]
    }
   ],
   "source": [
    "print(int('5.4'))"
   ]
  },
  {
   "cell_type": "code",
   "execution_count": null,
   "id": "0a8bb74a-6b42-4e5e-88d6-5f4532516830",
   "metadata": {},
   "outputs": [],
   "source": []
  }
 ],
 "metadata": {
  "kernelspec": {
   "display_name": "Python 3 (ipykernel)",
   "language": "python",
   "name": "python3"
  },
  "language_info": {
   "codemirror_mode": {
    "name": "ipython",
    "version": 3
   },
   "file_extension": ".py",
   "mimetype": "text/x-python",
   "name": "python",
   "nbconvert_exporter": "python",
   "pygments_lexer": "ipython3",
   "version": "3.10.13"
  }
 },
 "nbformat": 4,
 "nbformat_minor": 5
}
